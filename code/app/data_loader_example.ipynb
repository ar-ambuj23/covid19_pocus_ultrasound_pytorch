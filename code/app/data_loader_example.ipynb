{
 "cells": [
  {
   "cell_type": "markdown",
   "metadata": {},
   "source": [
    "# Data loader example"
   ]
  },
  {
   "cell_type": "markdown",
   "metadata": {},
   "source": [
    "This is example code that demonstrates use of our custom data loader for the POCOVID-Net training data. Much of this code is based on snippets from the the official PyTorch tutorial on [custom datasets, dataloaders, and transforms](https://pytorch.org/tutorials/beginner/data_loading_tutorial.html). "
   ]
  },
  {
   "cell_type": "code",
   "execution_count": 5,
   "metadata": {},
   "outputs": [],
   "source": [
    "import os\n",
    "import torch\n",
    "from skimage import io, transform\n",
    "from torch.utils.data import Dataset, DataLoader"
   ]
  },
  {
   "cell_type": "code",
   "execution_count": 30,
   "metadata": {},
   "outputs": [],
   "source": [
    "class PocovidDataset(Dataset):\n",
    "  \"\"\"Subclass of Dataset for POCOVID-Net data\"\"\"\n",
    "  \n",
    "  def __init__(self, root_dir, transform=None):\n",
    "      \"\"\"\n",
    "      Args:\n",
    "          root_dir (string): Directory with all the images.\n",
    "          transform (callable, optional): Optional transform to be applied\n",
    "              on a sample.\n",
    "      \"\"\"\n",
    "      self.root_dir = root_dir\n",
    "      self.transform = transform\n",
    "      self.covid_dir = root_dir + '/' + 'covid'\n",
    "      self.pneu_dir = root_dir + '/' + 'pneumonia'\n",
    "      self.regular_dir = root_dir + '/' + 'regular'\n",
    "      \n",
    "      self.covid_class = 0\n",
    "      self.pneu_class = 1\n",
    "      self.regular_class = 2\n",
    "\n",
    "      # Modified code snippet from Daniel Stutzbach: https://stackoverflow.com/a/2632251\n",
    "      dir_items = lambda d: [d + \"/\" + name for name in os.listdir(d) if os.path.isfile(d + \"/\" + name)]\n",
    "\n",
    "      covid_items = dir_items(self.covid_dir)\n",
    "      pneu_items = dir_items(self.pneu_dir)\n",
    "      regular_items = dir_items(self.regular_dir)\n",
    "      \n",
    "      num_covid = len(covid_items)\n",
    "      num_pneu = len(pneu_items)\n",
    "      num_regular = len(regular_items)\n",
    "      \n",
    "      self.img_info = []\n",
    "      for covid_filename in covid_items:\n",
    "        self.img_info.append((covid_filename,self.covid_class))\n",
    "      for pneu_filename in pneu_items:\n",
    "        self.img_info.append((pneu_filename,self.pneu_class))\n",
    "      for regular_filename in regular_items:\n",
    "        self.img_info.append((regular_filename,self.regular_class)) \n",
    "\n",
    "      self.transform = transform\n",
    "      self.num_images = num_covid + num_pneu + num_regular\n",
    "  \n",
    "  def __len__(self):\n",
    "    return self.num_images\n",
    "  \n",
    "  def __getitem__(self,idx):\n",
    "    img_name, img_class = self.img_info[idx]\n",
    "    image = io.imread(img_name)\n",
    "    sample = {'image': image, 'class': img_class} \n",
    "    \n",
    "    if self.transform:\n",
    "      sample = self.transform(sample)\n",
    "\n",
    "    return sample"
   ]
  },
  {
   "cell_type": "markdown",
   "metadata": {},
   "source": [
    "For the purposes of this example, I am assuming this notebook is being run from the `code/app` directory in this repository. If you use a different working directory, you will need to adjust the `root_dir` argument to the `PocovidDataset` constructor accordingly. "
   ]
  },
  {
   "cell_type": "code",
   "execution_count": 31,
   "metadata": {},
   "outputs": [
    {
     "data": {
      "text/plain": [
       "'/home/nathan/Code/covid19_pocus_ultrasound_pytorch/code/app'"
      ]
     },
     "execution_count": 31,
     "metadata": {},
     "output_type": "execute_result"
    }
   ],
   "source": [
    "os.getcwd() # get current working directory"
   ]
  },
  {
   "cell_type": "code",
   "execution_count": 32,
   "metadata": {},
   "outputs": [],
   "source": [
    "covid_data = PocovidDataset('../data/pocus_images')"
   ]
  },
  {
   "cell_type": "code",
   "execution_count": 33,
   "metadata": {},
   "outputs": [
    {
     "data": {
      "text/plain": [
       "1137"
      ]
     },
     "execution_count": 33,
     "metadata": {},
     "output_type": "execute_result"
    }
   ],
   "source": [
    "covid_data.num_images"
   ]
  },
  {
   "cell_type": "code",
   "execution_count": 35,
   "metadata": {},
   "outputs": [
    {
     "data": {
      "text/plain": [
       "('../data/pocus_images/covid/Cov-Consolidation.mp4_frame0.jpg', 0)"
      ]
     },
     "execution_count": 35,
     "metadata": {},
     "output_type": "execute_result"
    }
   ],
   "source": [
    "covid_data.img_info[1]"
   ]
  },
  {
   "cell_type": "code",
   "execution_count": 39,
   "metadata": {},
   "outputs": [
    {
     "data": {
      "text/plain": [
       "('../data/pocus_images/pneumonia/pneu-radiopaeda.mp4_frame170.jpg', 1)"
      ]
     },
     "execution_count": 39,
     "metadata": {},
     "output_type": "execute_result"
    }
   ],
   "source": [
    "covid_data.img_info[700]"
   ]
  },
  {
   "cell_type": "code",
   "execution_count": 40,
   "metadata": {},
   "outputs": [
    {
     "data": {
      "text/plain": [
       "('../data/pocus_images/regular/Reg-NormalLungs.mp4_frame0.jpg', 2)"
      ]
     },
     "execution_count": 40,
     "metadata": {},
     "output_type": "execute_result"
    }
   ],
   "source": [
    "covid_data.img_info[-1]"
   ]
  }
 ],
 "metadata": {
  "kernelspec": {
   "display_name": "myenv",
   "language": "python",
   "name": "myenv"
  },
  "language_info": {
   "codemirror_mode": {
    "name": "ipython",
    "version": 3
   },
   "file_extension": ".py",
   "mimetype": "text/x-python",
   "name": "python",
   "nbconvert_exporter": "python",
   "pygments_lexer": "ipython3",
   "version": "3.8.5"
  }
 },
 "nbformat": 4,
 "nbformat_minor": 4
}
