{
 "cells": [
  {
   "cell_type": "code",
   "execution_count": 1,
   "metadata": {},
   "outputs": [],
   "source": [
    "import torch\n",
    "import torchvision\n",
    "import torchvision.transforms as transforms\n",
    "import torch.optim as optim\n",
    "import torch.nn as nn\n",
    "import torch.nn.functional as F\n",
    "\n",
    "import sys\n",
    "sys.path.append('../models')\n",
    "from vgg import VGG16_model\n",
    "\n",
    "import os\n",
    "from imutils import paths\n",
    "from collections import defaultdict \n",
    "import numpy as np\n",
    "import time\n",
    "\n",
    "from sklearn.metrics import classification_report, confusion_matrix, ConfusionMatrixDisplay\n",
    "import matplotlib.pyplot as plt"
   ]
  },
  {
   "cell_type": "markdown",
   "metadata": {},
   "source": [
    "### Fixing Random Seeds"
   ]
  },
  {
   "cell_type": "code",
   "execution_count": 2,
   "metadata": {},
   "outputs": [
    {
     "ename": "NameError",
     "evalue": "name 'random' is not defined",
     "output_type": "error",
     "traceback": [
      "\u001b[0;31m---------------------------------------------------------------------------\u001b[0m",
      "\u001b[0;31mNameError\u001b[0m                                 Traceback (most recent call last)",
      "\u001b[0;32m<ipython-input-2-305413a2cd90>\u001b[0m in \u001b[0;36m<module>\u001b[0;34m\u001b[0m\n\u001b[1;32m      1\u001b[0m \u001b[0mSEED\u001b[0m \u001b[0;34m=\u001b[0m \u001b[0;36m1234\u001b[0m\u001b[0;34m\u001b[0m\u001b[0;34m\u001b[0m\u001b[0m\n\u001b[1;32m      2\u001b[0m \u001b[0;34m\u001b[0m\u001b[0m\n\u001b[0;32m----> 3\u001b[0;31m \u001b[0mrandom\u001b[0m\u001b[0;34m.\u001b[0m\u001b[0mseed\u001b[0m\u001b[0;34m(\u001b[0m\u001b[0mSEED\u001b[0m\u001b[0;34m)\u001b[0m\u001b[0;34m\u001b[0m\u001b[0;34m\u001b[0m\u001b[0m\n\u001b[0m\u001b[1;32m      4\u001b[0m \u001b[0mnp\u001b[0m\u001b[0;34m.\u001b[0m\u001b[0mrandom\u001b[0m\u001b[0;34m.\u001b[0m\u001b[0mseed\u001b[0m\u001b[0;34m(\u001b[0m\u001b[0mSEED\u001b[0m\u001b[0;34m)\u001b[0m\u001b[0;34m\u001b[0m\u001b[0;34m\u001b[0m\u001b[0m\n\u001b[1;32m      5\u001b[0m \u001b[0mtorch\u001b[0m\u001b[0;34m.\u001b[0m\u001b[0mmanual_seed\u001b[0m\u001b[0;34m(\u001b[0m\u001b[0mSEED\u001b[0m\u001b[0;34m)\u001b[0m\u001b[0;34m\u001b[0m\u001b[0;34m\u001b[0m\u001b[0m\n",
      "\u001b[0;31mNameError\u001b[0m: name 'random' is not defined"
     ]
    }
   ],
   "source": [
    "SEED = 1234\n",
    "\n",
    "random.seed(SEED)\n",
    "np.random.seed(SEED)\n",
    "torch.manual_seed(SEED)\n",
    "torch.cuda.manual_seed(SEED)\n",
    "torch.backends.cudnn.deterministic = True"
   ]
  },
  {
   "cell_type": "markdown",
   "metadata": {},
   "source": [
    "### Initializing parameters"
   ]
  },
  {
   "cell_type": "code",
   "execution_count": 2,
   "metadata": {},
   "outputs": [],
   "source": [
    "# Add remaining parameters in the end\n",
    "# And convert everything to parse args\n",
    "\n",
    "DATA_DIR = '../data'\n",
    "CROSS_VAL_DIR = '../data/cross_validation'\n",
    "MODEL_SAVE_DIR = '../trained_models'\n",
    "N_EPOCHS = 5\n",
    "FOLD = 0\n",
    "device = torch.device(\"cuda:0\" if torch.cuda.is_available() else \"cpu\")\n",
    "\n",
    "# MODEL_NAME = args['model_name']\n",
    "# LR = args['learning_rate']\n",
    "# BATCH_SIZE = args['batch_size']\n",
    "# MODEL_ID = args['model_id'] ---> for model factory. Implement this.\n",
    "# TRAINABLE_BASE_LAYERS = args['trainable_base_layers']\n",
    "# IMG_WIDTH, IMG_HEIGHT = args['img_width'], args['img_height']\n",
    "# LOG_SOFTMAX = args['log_softmax']\n",
    "# HIDDEN_SIZE = args['hidden_size']"
   ]
  },
  {
   "cell_type": "code",
   "execution_count": 3,
   "metadata": {},
   "outputs": [],
   "source": [
    "# # Create the model save dir if it already doesn't exist\n",
    "if not os.path.exists(MODEL_SAVE_DIR):\n",
    "    os.makedirs(MODEL_SAVE_DIR)"
   ]
  },
  {
   "cell_type": "markdown",
   "metadata": {},
   "source": [
    "### Load the Pocovid Dataset according to the fold passed"
   ]
  },
  {
   "cell_type": "code",
   "execution_count": 4,
   "metadata": {},
   "outputs": [],
   "source": [
    "import sys\n",
    "sys.path.append('../scripts')\n",
    "from pocovid_dataset import PocovidDataset\n",
    "from torch.utils.data import Dataset, DataLoader"
   ]
  },
  {
   "cell_type": "code",
   "execution_count": 5,
   "metadata": {},
   "outputs": [],
   "source": [
    "def get_train_test_paths():\n",
    "    \n",
    "    imagePaths = list(paths.list_images(CROSS_VAL_DIR))\n",
    "\n",
    "    train_path_info = defaultdict(list)\n",
    "    test_path_info = defaultdict(list)\n",
    "\n",
    "    for imagePath in imagePaths:\n",
    "        path_parts = imagePath.split(os.path.sep)\n",
    "        fold_number = path_parts[-3][-1]\n",
    "        label = path_parts[-2]\n",
    "        if(fold_number==str(FOLD)):\n",
    "            test_path_info['path_list'].append(imagePath)\n",
    "            test_path_info['label_list'].append(label)\n",
    "        else:\n",
    "            train_path_info['path_list'].append(imagePath)\n",
    "            train_path_info['label_list'].append(label)\n",
    "\n",
    "    return train_path_info, test_path_info"
   ]
  },
  {
   "cell_type": "code",
   "execution_count": 6,
   "metadata": {},
   "outputs": [],
   "source": [
    "train_path_info, test_path_info = get_train_test_paths()"
   ]
  },
  {
   "cell_type": "code",
   "execution_count": 7,
   "metadata": {},
   "outputs": [],
   "source": [
    "# Get the train and test data according to the fold \n",
    "\n",
    "train_transform = transforms.Compose([transforms.Resize((224,224)),\n",
    "                                   transforms.RandomAffine(10,translate=(0.1,0.1)),\n",
    "                                   transforms.ToTensor()])\n",
    "\n",
    "test_transform = transforms.Compose([transforms.Resize((224,224)),\n",
    "                                   transforms.ToTensor()])\n",
    "\n",
    "trainset = PocovidDataset(train_path_info, transform = train_transform)\n",
    "testset = PocovidDataset(test_path_info, transform = test_transform)\n",
    "\n",
    "batch_size = 16\n",
    "num_workers = 2\n",
    "\n",
    "train_loader = torch.utils.data.DataLoader(trainset, num_workers=num_workers, shuffle=True,\n",
    "                                  batch_size=batch_size, drop_last=True)\n",
    "\n",
    "test_loader = torch.utils.data.DataLoader(testset, num_workers=num_workers, shuffle=True,\n",
    "                                batch_size=batch_size)"
   ]
  },
  {
   "cell_type": "code",
   "execution_count": 8,
   "metadata": {},
   "outputs": [],
   "source": [
    "class_map = {trainset.get_covid_class_idx() : 'covid',\n",
    "            trainset.get_pneu_class_idx() : 'pneumonia',\n",
    "            trainset.get_regular_class_idx() : 'regular'}"
   ]
  },
  {
   "cell_type": "markdown",
   "metadata": {},
   "source": [
    "### Model"
   ]
  },
  {
   "cell_type": "code",
   "execution_count": 9,
   "metadata": {},
   "outputs": [],
   "source": [
    "model = VGG16_model().to(device)"
   ]
  },
  {
   "cell_type": "markdown",
   "metadata": {},
   "source": [
    "### Loss function and Optimizer"
   ]
  },
  {
   "cell_type": "code",
   "execution_count": 10,
   "metadata": {},
   "outputs": [],
   "source": [
    "criterion = nn.CrossEntropyLoss().to(device)\n",
    "optimizer = optim.Adam(params = model.parameters(), lr=1e-4) #experiment with weigth_decay\n",
    "scheduler = torch.optim.lr_scheduler.StepLR(optimizer, 1, gamma=0.95) # use scheduler"
   ]
  },
  {
   "cell_type": "markdown",
   "metadata": {},
   "source": [
    "### Train and Eval functions"
   ]
  },
  {
   "cell_type": "code",
   "execution_count": 11,
   "metadata": {},
   "outputs": [],
   "source": [
    "def train(model, optimizer, criterion, iterator):\n",
    "    \n",
    "    model.train()\n",
    "    \n",
    "    epoch_loss = 0\n",
    "    \n",
    "    for i, batch in enumerate(iterator):\n",
    "        \n",
    "        inputs, labels = batch[0].to(device), batch[1].to(device)\n",
    "        \n",
    "        optimizer.zero_grad()\n",
    "\n",
    "        outputs = model(inputs)\n",
    "\n",
    "        loss = criterion(outputs, labels)\n",
    "        \n",
    "        loss.backward()\n",
    "        \n",
    "        optimizer.step()\n",
    "        \n",
    "        epoch_loss += loss.item()\n",
    "        \n",
    "    return epoch_loss / len(iterator)"
   ]
  },
  {
   "cell_type": "code",
   "execution_count": 12,
   "metadata": {},
   "outputs": [],
   "source": [
    "def evaluate(model, criterion, iterator):\n",
    "    \n",
    "    model.eval()\n",
    "    \n",
    "    epoch_loss = 0\n",
    "    \n",
    "    with torch.no_grad():    \n",
    "        for i, batch in enumerate(iterator):    \n",
    "            \n",
    "            inputs, labels = batch[0].to(device), batch[1].to(device)\n",
    "            \n",
    "            outputs = model(inputs)\n",
    "\n",
    "            loss = criterion(outputs, labels)\n",
    "\n",
    "            epoch_loss += loss.item()\n",
    "\n",
    "    return epoch_loss / len(iterator)"
   ]
  },
  {
   "cell_type": "markdown",
   "metadata": {},
   "source": [
    "### Epoch Time Measuring "
   ]
  },
  {
   "cell_type": "code",
   "execution_count": 13,
   "metadata": {},
   "outputs": [],
   "source": [
    "def epoch_time(start_time, end_time):\n",
    "    elapsed_time = end_time - start_time\n",
    "    elapsed_mins = int(elapsed_time / 60)\n",
    "    elapsed_secs = int(elapsed_time - (elapsed_mins * 60))\n",
    "    return elapsed_mins, elapsed_secs"
   ]
  },
  {
   "cell_type": "markdown",
   "metadata": {},
   "source": [
    "### Training"
   ]
  },
  {
   "cell_type": "code",
   "execution_count": 15,
   "metadata": {},
   "outputs": [],
   "source": [
    "best_valid_loss = np.inf\n",
    "c = 0\n",
    "\n",
    "for epoch in range(N_EPOCHS):\n",
    "    \n",
    "    print(f'Epoch: {epoch+1:02}')\n",
    "\n",
    "    start_time = time.time()\n",
    "\n",
    "    train_loss = train(model, optimizer, criterion, train_loader)\n",
    "    valid_loss = evaluate(model, criterion, test_loader)\n",
    "\n",
    "    epoch_mins, epoch_secs = epoch_time(start_time, time.time())\n",
    "    \n",
    "    c+=1\n",
    "    if valid_loss < best_valid_loss:\n",
    "        best_valid_loss = valid_loss\n",
    "        torch.save(model.state_dict(), os.path.join(MODEL_SAVE_DIR, 'vgg_trained.pt'))\n",
    "        c=0\n",
    " \n",
    "    if c>4:\n",
    "        #decrease lr if loss does not decrease after 5 steps\n",
    "        scheduler.step()\n",
    "        c=0\n",
    "\n",
    "    print(f'Time: {epoch_mins}m {epoch_secs}s') \n",
    "    print(f'Train Loss: {train_loss:.3f}')\n",
    "    print(f'Val   Loss: {valid_loss:.3f}')\n",
    "    print('-'*100)\n",
    "print(best_valid_loss)"
   ]
  },
  {
   "cell_type": "markdown",
   "metadata": {},
   "source": [
    "### Testing"
   ]
  },
  {
   "cell_type": "code",
   "execution_count": 17,
   "metadata": {},
   "outputs": [
    {
     "data": {
      "text/plain": [
       "<All keys matched successfully>"
      ]
     },
     "execution_count": 17,
     "metadata": {},
     "output_type": "execute_result"
    }
   ],
   "source": [
    "# Load the model here, if you are testing\n",
    "# uncomment while testing\n",
    "\n",
    "# model = VGG16_model().to(device) \n",
    "model.load_state_dict(torch.load(os.path.join(MODEL_SAVE_DIR, 'vgg_trained.pt'), map_location=device))"
   ]
  },
  {
   "cell_type": "code",
   "execution_count": 1,
   "metadata": {},
   "outputs": [],
   "source": [
    "def test(model, iterator, proba=False, one_batch=False):\n",
    "    \n",
    "    model.eval()\n",
    "    \n",
    "    images = []\n",
    "    true_labels = []\n",
    "    pred_labels = []\n",
    "    pred_probs = []\n",
    "    \n",
    "    with torch.no_grad():    \n",
    "        for i, batch in enumerate(iterator):    \n",
    "            \n",
    "            inputs, labels = batch[0].to(device), batch[1].to(device)\n",
    "            \n",
    "            outputs = model(inputs)\n",
    "            \n",
    "            y_prob = F.softmax(outputs, dim = -1)\n",
    "            \n",
    "            top_preds = y_prob.argmax(1, keepdim = True)\n",
    "            \n",
    "            images.append(inputs.to(device))\n",
    "            true_labels.append(labels.to(device))\n",
    "            pred_labels.append(top_preds.to(device))\n",
    "            pred_probs.append(y_prob.to(device))\n",
    "            \n",
    "            if(one_batch):\n",
    "                break\n",
    "            \n",
    "    images = torch.cat(images, dim=0)\n",
    "    true_labels = torch.cat(true_labels, dim=0)\n",
    "    pred_labels = torch.cat(pred_labels, dim=0)\n",
    "    pred_probs = torch.cat(pred_probs, dim=0)\n",
    "\n",
    "    \n",
    "    if(proba):\n",
    "        return images, true_labels, pred_labels, pred_probs\n",
    "            \n",
    "    return images, true_labels, pred_labels"
   ]
  },
  {
   "cell_type": "code",
   "execution_count": 27,
   "metadata": {},
   "outputs": [],
   "source": [
    "images, true_labels, pred_labels = test(model, test_loader)"
   ]
  },
  {
   "cell_type": "markdown",
   "metadata": {},
   "source": [
    "### Plot Confusion Matrix"
   ]
  },
  {
   "cell_type": "code",
   "execution_count": null,
   "metadata": {},
   "outputs": [],
   "source": [
    "def plot_confusion_matrix(labels, pred_labels, classes):\n",
    "    \n",
    "    fig = plt.figure(figsize = (10, 10));\n",
    "    ax = fig.add_subplot(1, 1, 1);\n",
    "    cm = confusion_matrix(labels, pred_labels);\n",
    "    cm = ConfusionMatrixDisplay(cm, display_labels = classes);\n",
    "    cm.plot(values_format = 'd', cmap = 'Blues', ax = ax)\n",
    "    plt.xticks(rotation = 20)"
   ]
  },
  {
   "cell_type": "code",
   "execution_count": null,
   "metadata": {},
   "outputs": [],
   "source": [
    "plot_confusion_matrix(true_labels.cpu().numpy(), pred_labels.cpu().numpy(), ['covid', 'pneumonia', 'regular'])\n",
    "\n",
    "# Use this in the training script\n",
    "#cm = confusion_matrix(true_labels.cpu().numpy(), pred_labels.cpu().numpy())\n",
    "#print(cm)"
   ]
  },
  {
   "cell_type": "markdown",
   "metadata": {},
   "source": [
    "### Get the Classification Report"
   ]
  },
  {
   "cell_type": "code",
   "execution_count": null,
   "metadata": {},
   "outputs": [],
   "source": [
    "print(classification_report(\n",
    "        true_labels.cpu().numpy(), pred_labels.cpu().numpy(), target_names= ['covid', 'pneumonia', 'regular']\n",
    "    ))"
   ]
  },
  {
   "cell_type": "markdown",
   "metadata": {},
   "source": [
    "### Visualize Sample Test Results"
   ]
  },
  {
   "cell_type": "code",
   "execution_count": null,
   "metadata": {},
   "outputs": [],
   "source": [
    "def visualize_test_samples(model, test_loader):\n",
    "    \n",
    "    images, true_labels, pred_labels, pred_probs = test(model, test_loader, proba=True, one_batch=True)\n",
    "\n",
    "    true_labels = true_labels.cpu().numpy()\n",
    "    pred_labels = pred_labels.cpu().numpy()\n",
    "    pred_probs = pred_probs.cpu().numpy()\n",
    "\n",
    "\n",
    "    rows = int(np.sqrt(len(images)))\n",
    "    cols = int(np.sqrt(len(images)))\n",
    "\n",
    "    fig = plt.figure(figsize = (25, 20))\n",
    "\n",
    "    for i in range(rows*cols):\n",
    "\n",
    "        ax = fig.add_subplot(rows, cols, i+1)\n",
    "\n",
    "        image, true_label, pred_label, pred_prob = images[i], true_labels[i], pred_labels[i], pred_probs[i]\n",
    "        image = image.permute(1, 2, 0)\n",
    "        ax.imshow(image.cpu().numpy())\n",
    "        ax.set_title(f'true label: {class_map[true_label]}\\n' \\\n",
    "                    f'pred label: {class_map[pred_label[0]]} (Prob: {max(pred_prob):.3f})',\n",
    "                    color = ('green' if true_label==pred_label[0] else 'red'))\n",
    "        ax.axis('off')\n",
    "\n",
    "    fig.subplots_adjust(hspace = 0.4)\n",
    "    \n",
    "    plt.show()"
   ]
  },
  {
   "cell_type": "code",
   "execution_count": null,
   "metadata": {},
   "outputs": [],
   "source": [
    "visualize_test_samples(model, test_loader)"
   ]
  }
 ],
 "metadata": {
  "kernelspec": {
   "display_name": "Python 3",
   "language": "python",
   "name": "python3"
  },
  "language_info": {
   "codemirror_mode": {
    "name": "ipython",
    "version": 3
   },
   "file_extension": ".py",
   "mimetype": "text/x-python",
   "name": "python",
   "nbconvert_exporter": "python",
   "pygments_lexer": "ipython3",
   "version": "3.7.6"
  }
 },
 "nbformat": 4,
 "nbformat_minor": 4
}
