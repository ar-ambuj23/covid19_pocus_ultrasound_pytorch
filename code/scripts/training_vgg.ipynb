{
 "cells": [
  {
   "cell_type": "code",
   "execution_count": 1,
   "metadata": {},
   "outputs": [],
   "source": [
    "import torch\n",
    "import torchvision\n",
    "import torchvision.transforms as transforms\n",
    "import torch.optim as optim\n",
    "import torch.nn as nn\n",
    "import torch.nn.functional as F\n",
    "\n",
    "import sys\n",
    "sys.path.append('../models')\n",
    "from vgg import VGG16_model\n",
    "\n",
    "import os\n",
    "import random\n",
    "from imutils import paths\n",
    "from collections import defaultdict \n",
    "import numpy as np\n",
    "import time\n",
    "\n",
    "from sklearn.metrics import classification_report, confusion_matrix, ConfusionMatrixDisplay\n",
    "import matplotlib.pyplot as plt"
   ]
  },
  {
   "cell_type": "markdown",
   "metadata": {},
   "source": [
    "### Fixing Random Seeds"
   ]
  },
  {
   "cell_type": "code",
   "execution_count": 2,
   "metadata": {},
   "outputs": [],
   "source": [
    "SEED = 1234\n",
    "\n",
    "random.seed(SEED)\n",
    "np.random.seed(SEED)\n",
    "torch.manual_seed(SEED)\n",
    "torch.cuda.manual_seed(SEED)\n",
    "torch.backends.cudnn.deterministic = True"
   ]
  },
  {
   "cell_type": "markdown",
   "metadata": {},
   "source": [
    "### Initializing parameters"
   ]
  },
  {
   "cell_type": "code",
   "execution_count": 3,
   "metadata": {},
   "outputs": [],
   "source": [
    "DATA_DIR = '../data'\n",
    "CROSS_VAL_DIR = '../data/cross_validation'\n",
    "MODEL_SAVE_DIR = '../trained_models'\n",
    "MODEL_SAVE_NAME = 'vgg_trained.pt'\n",
    "N_EPOCHS = 5\n",
    "FOLD = 0\n",
    "device = torch.device(\"cuda:0\" if torch.cuda.is_available() else \"cpu\")\n",
    "LR = 1e-4\n",
    "BATCH_SIZE = 16\n",
    "IMG_WIDTH, IMG_HEIGHT = 224, 224\n",
    "\n",
    "# Create the model save dir if it already doesn't exist\n",
    "if not os.path.exists(MODEL_SAVE_DIR):\n",
    "    os.makedirs(MODEL_SAVE_DIR)"
   ]
  },
  {
   "cell_type": "markdown",
   "metadata": {},
   "source": [
    "### Load the Pocovid Dataset according to the fold passed"
   ]
  },
  {
   "cell_type": "code",
   "execution_count": 4,
   "metadata": {},
   "outputs": [],
   "source": [
    "import sys\n",
    "sys.path.append('../scripts')\n",
    "from pocovid_dataset import PocovidDataset\n",
    "from torch.utils.data import Dataset, DataLoader"
   ]
  },
  {
   "cell_type": "code",
   "execution_count": 9,
   "metadata": {},
   "outputs": [],
   "source": [
    "class_map = trainset.get_class_map()"
   ]
  },
  {
   "cell_type": "markdown",
   "metadata": {},
   "source": [
    "### The Training Class"
   ]
  },
  {
   "cell_type": "code",
   "execution_count": null,
   "metadata": {},
   "outputs": [],
   "source": [
    "class Trainer():\n",
    "    \n",
    "    def __init__(self, model_name='vgg16', lr=LR, n_epochs=N_EPOCHS, batch_size=BATCH_SIZE, \n",
    "                 image_width=IMG_WIDTH, image_height=IMG_HEIGHT, cross_val_dir=CROSS_VAL_DIR,\n",
    "                model_save_dir=MODEL_SAVE_DIR):\n",
    "        \n",
    "        if(model_name=='vgg16'):\n",
    "            self.model = VGG16_model().to(device)\n",
    "        elif(model_name=='resnet50'):\n",
    "            self.model = RESNET50_model().to(device)\n",
    "        else:\n",
    "            print('Select models from the following:\\n 1) vgg16\\n 2) resnet50')\n",
    "                    \n",
    "        self.lr = lr\n",
    "        self.n_epochs = n_epochs\n",
    "        self.batch_size = batch_size\n",
    "        \n",
    "        self.criterion = nn.CrossEntropyLoss().to(device)\n",
    "        self.optimizer = optim.Adam(params = self.model.parameters(), lr=self.lr) #experiment with weigth_decay\n",
    "        self.scheduler = torch.optim.lr_scheduler.StepLR(self.optimizer, 1, gamma=0.95) # use scheduler\n",
    "        \n",
    "        self.model_save_dir = model_save_dir\n",
    "        \n",
    "        \n",
    "    def get_train_test_info(self):\n",
    "        \"\"\"\n",
    "        Get information dictionaries for train and test data\n",
    "        \"\"\"\n",
    "    \n",
    "        imagePaths = list(paths.list_images(cross_val_dir))\n",
    "\n",
    "        train_path_info = defaultdict(list)\n",
    "        test_path_info = defaultdict(list)\n",
    "\n",
    "        for imagePath in imagePaths:\n",
    "            path_parts = imagePath.split(os.path.sep)\n",
    "            fold_number = path_parts[-3][-1]\n",
    "            label = path_parts[-2]\n",
    "            if(fold_number==str(FOLD)):\n",
    "                test_path_info['path_list'].append(imagePath)\n",
    "                test_path_info['label_list'].append(label)\n",
    "            else:\n",
    "                train_path_info['path_list'].append(imagePath)\n",
    "                train_path_info['label_list'].append(label)\n",
    "\n",
    "        return train_path_info, test_path_info\n",
    "    \n",
    "    \n",
    "    def get_train_test_loaders(self, num_workers=2):\n",
    "        \n",
    "        \"\"\"\n",
    "        Get the train and test data according to the fold\n",
    "        \"\"\"\n",
    "        \n",
    "        train_path_info, test_path_info = self.get_train_test_info()\n",
    "\n",
    "        train_transform = transforms.Compose([transforms.Resize((IMG_WIDTH, IMG_HEIGHT)),\n",
    "                                           transforms.RandomAffine(10,translate=(0.1,0.1)),\n",
    "                                           transforms.ToTensor()])\n",
    "\n",
    "        test_transform = transforms.Compose([transforms.Resize((IMG_WIDTH, IMG_HEIGHT)),\n",
    "                                           transforms.ToTensor()])\n",
    "\n",
    "        trainset = PocovidDataset(train_path_info, transform = train_transform)\n",
    "        testset = PocovidDataset(test_path_info, transform = test_transform)\n",
    "\n",
    "        train_loader = torch.utils.data.DataLoader(trainset, num_workers=num_workers, shuffle=True,\n",
    "                                          batch_size=self.batch_size, drop_last=True)\n",
    "\n",
    "        test_loader = torch.utils.data.DataLoader(testset, num_workers=num_workers, shuffle=True,\n",
    "                                        batch_size=self.batch_size)\n",
    "        \n",
    "        return train_loader, test_loader\n",
    "        \n",
    "    \n",
    "    def train(self, iterator):\n",
    "        \"\"\"\n",
    "        The train function\n",
    "        \"\"\"\n",
    "    \n",
    "        self.model.train()\n",
    "\n",
    "        epoch_loss = 0\n",
    "\n",
    "        for i, batch in enumerate(iterator):\n",
    "\n",
    "            inputs, labels = batch[0].to(device), batch[1].to(device)\n",
    "\n",
    "            self.optimizer.zero_grad()\n",
    "\n",
    "            outputs = self.model(inputs)\n",
    "\n",
    "            loss = self.criterion(outputs, labels)\n",
    "\n",
    "            loss.backward()\n",
    "\n",
    "            self.optimizer.step()\n",
    "\n",
    "            epoch_loss += loss.item()\n",
    "\n",
    "        return epoch_loss / len(iterator)\n",
    "\n",
    "    def evaluate(self, model, criterion, iterator):\n",
    "        \"\"\"\n",
    "        The eval function\n",
    "        \"\"\"\n",
    "    \n",
    "        self.model.eval()\n",
    "\n",
    "        epoch_loss = 0\n",
    "\n",
    "        with torch.no_grad():    \n",
    "            for i, batch in enumerate(iterator):    \n",
    "\n",
    "                inputs, labels = batch[0].to(device), batch[1].to(device)\n",
    "\n",
    "                outputs = self.model(inputs)\n",
    "\n",
    "                loss = self.criterion(outputs, labels)\n",
    "\n",
    "                epoch_loss += loss.item()\n",
    "\n",
    "        return epoch_loss / len(iterator)\n",
    "    \n",
    "    def epoch_time(self, start_time, end_time):\n",
    "        \"\"\"\n",
    "        The utility function to measure the time taken by an epoch to run\n",
    "        \"\"\"\n",
    "        elapsed_time = end_time - start_time\n",
    "        elapsed_mins = int(elapsed_time / 60)\n",
    "        elapsed_secs = int(elapsed_time - (elapsed_mins * 60))\n",
    "        return elapsed_mins, elapsed_secs\n",
    "    \n",
    "    def start_training(self):\n",
    "        \"\"\"\n",
    "        The training function which does the training by calling train and eval functions\n",
    "        \"\"\"\n",
    "    \n",
    "        best_valid_loss = np.inf\n",
    "        c = 0\n",
    "        \n",
    "        train_loader, test_loader = self.get_train_test_loaders()\n",
    "        \n",
    "        for epoch in range(self.n_epochs):\n",
    "\n",
    "            print(f'Epoch: {epoch+1:02}')\n",
    "\n",
    "            start_time = time.time()\n",
    "\n",
    "            train_loss = self.train(train_loader)\n",
    "            valid_loss = self.evaluate(test_loader)\n",
    "\n",
    "            epoch_mins, epoch_secs = self.epoch_time(start_time, time.time())\n",
    "\n",
    "            c+=1\n",
    "            if valid_loss < best_valid_loss:\n",
    "                best_valid_loss = valid_loss\n",
    "                torch.save(self.model.state_dict(), os.path.join(model_save_dir, '{}_trained.pt'.format(model_name)))\n",
    "                c=0\n",
    "\n",
    "            if c>4:\n",
    "                #decrease lr if loss does not decrease after 5 steps\n",
    "                self.scheduler.step()\n",
    "                c=0\n",
    "\n",
    "            print(f'Time: {epoch_mins}m {epoch_secs}s') \n",
    "            print(f'Train Loss: {train_loss:.3f}')\n",
    "            print(f'Val   Loss: {valid_loss:.3f}')\n",
    "            print('-'*100)\n",
    "        print(best_valid_loss)"
   ]
  },
  {
   "cell_type": "markdown",
   "metadata": {},
   "source": [
    "### The Trained Model Class"
   ]
  },
  {
   "cell_type": "code",
   "execution_count": 15,
   "metadata": {},
   "outputs": [],
   "source": [
    "class TrainedModel():\n",
    "    \n",
    "    def __init__(self, model_name='vgg16'):\n",
    "        \"\"\"\n",
    "        To get the details of the pre-trained model\n",
    "        \"\"\"\n",
    "        trainer = Trainer(model_name=model_name)\n",
    "        self.model = trainer.model\n",
    "        self.model_save_dir = trainer.model_save_dir\n",
    "        \n",
    "    def loadModel(self, modelPath):\n",
    "        \"\"\"\n",
    "        To load the pre trained model\n",
    "        \"\"\"\n",
    "        self.model.load_state_dict(torch.load(os.path.join(self.model_save_dir, '{}_trained.pt'.format(model_name)), map_location=torch.device(device)))\n",
    "        return self.model\n",
    "    \n",
    "    def countParameters(self):\n",
    "        \"\"\"\n",
    "        To get the number of trainable parameters of the model\n",
    "        \"\"\"\n",
    "        return sum(p.numel() for p in self.model.parameters() if p.requires_grad)\n",
    "    \n",
    "    def printModel(self):\n",
    "        \"\"\"\n",
    "        To print the network architecture\n",
    "        \"\"\"\n",
    "        print(self.model)"
   ]
  },
  {
   "cell_type": "code",
   "execution_count": 15,
   "metadata": {},
   "outputs": [],
   "source": []
  },
  {
   "cell_type": "markdown",
   "metadata": {},
   "source": [
    "### Testing"
   ]
  },
  {
   "cell_type": "code",
   "execution_count": 17,
   "metadata": {},
   "outputs": [
    {
     "data": {
      "text/plain": [
       "<All keys matched successfully>"
      ]
     },
     "execution_count": 17,
     "metadata": {},
     "output_type": "execute_result"
    }
   ],
   "source": [
    "# Load the model here, if you are testing\n",
    "# uncomment while testing\n",
    "\n",
    "# model = VGG16_model().to(device) \n",
    "model.load_state_dict(torch.load(os.path.join(MODEL_SAVE_DIR, MODEL_SAVE_NAME), map_location=device))"
   ]
  },
  {
   "cell_type": "code",
   "execution_count": 1,
   "metadata": {},
   "outputs": [],
   "source": [
    "def test(model, iterator, proba=False, one_batch=False):\n",
    "    \n",
    "    model.eval()\n",
    "    \n",
    "    images = []\n",
    "    true_labels = []\n",
    "    pred_labels = []\n",
    "    pred_probs = []\n",
    "    \n",
    "    with torch.no_grad():    \n",
    "        for i, batch in enumerate(iterator):    \n",
    "            \n",
    "            inputs, labels = batch[0].to(device), batch[1].to(device)\n",
    "            \n",
    "            outputs = model(inputs)\n",
    "            \n",
    "            y_prob = F.softmax(outputs, dim = -1)\n",
    "            \n",
    "            top_preds = y_prob.argmax(1, keepdim = True)\n",
    "            \n",
    "            images.append(inputs.to(device))\n",
    "            true_labels.append(labels.to(device))\n",
    "            pred_labels.append(top_preds.to(device))\n",
    "            pred_probs.append(y_prob.to(device))\n",
    "            \n",
    "            if(one_batch):\n",
    "                break\n",
    "            \n",
    "    images = torch.cat(images, dim=0)\n",
    "    true_labels = torch.cat(true_labels, dim=0)\n",
    "    pred_labels = torch.cat(pred_labels, dim=0)\n",
    "    pred_probs = torch.cat(pred_probs, dim=0)\n",
    "\n",
    "    \n",
    "    if(proba):\n",
    "        return images, true_labels, pred_labels, pred_probs\n",
    "            \n",
    "    return images, true_labels, pred_labels"
   ]
  },
  {
   "cell_type": "code",
   "execution_count": 27,
   "metadata": {},
   "outputs": [],
   "source": [
    "images, true_labels, pred_labels = test(model, test_loader)"
   ]
  },
  {
   "cell_type": "markdown",
   "metadata": {},
   "source": [
    "### Plot Confusion Matrix"
   ]
  },
  {
   "cell_type": "code",
   "execution_count": null,
   "metadata": {},
   "outputs": [],
   "source": [
    "def plot_confusion_matrix(labels, pred_labels, classes):\n",
    "    \n",
    "    fig = plt.figure(figsize = (10, 10));\n",
    "    ax = fig.add_subplot(1, 1, 1);\n",
    "    cm = confusion_matrix(labels, pred_labels);\n",
    "    cm = ConfusionMatrixDisplay(cm, display_labels = classes);\n",
    "    cm.plot(values_format = 'd', cmap = 'Blues', ax = ax)\n",
    "    plt.xticks(rotation = 20)"
   ]
  },
  {
   "cell_type": "code",
   "execution_count": null,
   "metadata": {},
   "outputs": [],
   "source": [
    "plot_confusion_matrix(true_labels.cpu().numpy(), pred_labels.cpu().numpy(), ['covid', 'pneumonia', 'regular'])\n",
    "\n",
    "# Use this in the training script\n",
    "#cm = confusion_matrix(true_labels.cpu().numpy(), pred_labels.cpu().numpy())\n",
    "#print(cm)"
   ]
  },
  {
   "cell_type": "markdown",
   "metadata": {},
   "source": [
    "### Get the Classification Report"
   ]
  },
  {
   "cell_type": "code",
   "execution_count": null,
   "metadata": {},
   "outputs": [],
   "source": [
    "print(classification_report(\n",
    "        true_labels.cpu().numpy(), pred_labels.cpu().numpy(), target_names= ['covid', 'pneumonia', 'regular']\n",
    "    ))"
   ]
  },
  {
   "cell_type": "markdown",
   "metadata": {},
   "source": [
    "### Visualize Sample Test Results"
   ]
  },
  {
   "cell_type": "code",
   "execution_count": null,
   "metadata": {},
   "outputs": [],
   "source": [
    "def visualize_test_samples(model, test_loader):\n",
    "    \n",
    "    images, true_labels, pred_labels, pred_probs = test(model, test_loader, proba=True, one_batch=True)\n",
    "\n",
    "    true_labels = true_labels.cpu().numpy()\n",
    "    pred_labels = pred_labels.cpu().numpy()\n",
    "    pred_probs = pred_probs.cpu().numpy()\n",
    "\n",
    "\n",
    "    rows = int(np.sqrt(len(images)))\n",
    "    cols = int(np.sqrt(len(images)))\n",
    "\n",
    "    fig = plt.figure(figsize = (25, 20))\n",
    "\n",
    "    for i in range(rows*cols):\n",
    "\n",
    "        ax = fig.add_subplot(rows, cols, i+1)\n",
    "\n",
    "        image, true_label, pred_label, pred_prob = images[i], true_labels[i], pred_labels[i], pred_probs[i]\n",
    "        image = image.permute(1, 2, 0)\n",
    "        ax.imshow(image.cpu().numpy())\n",
    "        ax.set_title(f'true label: {class_map[true_label]}\\n' \\\n",
    "                    f'pred label: {class_map[pred_label[0]]} (Prob: {max(pred_prob):.3f})',\n",
    "                    color = ('green' if true_label==pred_label[0] else 'red'))\n",
    "        ax.axis('off')\n",
    "\n",
    "    fig.subplots_adjust(hspace = 0.4)\n",
    "    \n",
    "    plt.show()"
   ]
  },
  {
   "cell_type": "code",
   "execution_count": null,
   "metadata": {},
   "outputs": [],
   "source": [
    "visualize_test_samples(model, test_loader)"
   ]
  },
  {
   "cell_type": "code",
   "execution_count": null,
   "metadata": {},
   "outputs": [],
   "source": [
    "# Todo:\n",
    "# 1) Implement ROC graph with confidence values (J)\n",
    "# 2) Hypertune the paramaters for best results (N)\n",
    "# 3) Implement voting classifier from all 5 folds using 5 models (A)\n",
    "# 4) Add code for early stopping (A)\n",
    "# 5) Do visualization stuff (N)\n",
    "# 6) Refactor all code and make the training and testing scripts with args (A)\n",
    "# 7) Finalize this notebook with all code included (A)\n",
    "# 8) Implement the flask api (A)\n",
    "# 9) Test the script and prepare a notebook for Resnet model (J)"
   ]
  }
 ],
 "metadata": {
  "kernelspec": {
   "display_name": "Python 3",
   "language": "python",
   "name": "python3"
  },
  "language_info": {
   "codemirror_mode": {
    "name": "ipython",
    "version": 3
   },
   "file_extension": ".py",
   "mimetype": "text/x-python",
   "name": "python",
   "nbconvert_exporter": "python",
   "pygments_lexer": "ipython3",
   "version": "3.7.6"
  }
 },
 "nbformat": 4,
 "nbformat_minor": 4
}
